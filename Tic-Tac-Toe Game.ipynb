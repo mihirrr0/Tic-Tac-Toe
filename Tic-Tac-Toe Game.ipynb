{
 "cells": [
  {
   "cell_type": "markdown",
   "id": "a9c4135d",
   "metadata": {},
   "source": [
    " # Tic-Tac-Toe Game\n",
    " **Welcome to my Jupyter Notebook featuring a Python-based Tic-Tac-Toe game! Dive into this interactive experience to play the classic game with a friend through command line interactions. Explore the code's structure and mechanics, and enjoy some timeless gaming fun.**"
   ]
  },
  {
   "cell_type": "markdown",
   "id": "5929d6a1",
   "metadata": {},
   "source": [
    "display_board(board): Clears the output and displays the current game board, including markers and positions, in a visually appealing format."
   ]
  },
  {
   "cell_type": "code",
   "execution_count": 2,
   "id": "dd1e6d14",
   "metadata": {},
   "outputs": [],
   "source": [
    "from IPython.display import clear_output\n",
    "\n",
    "def display_board(board):\n",
    "    \n",
    "    clear_output()\n",
    "    print(board[1]+\"|\"+board[2]+\"|\"+board[3])\n",
    "    print(\"-|-|-\")\n",
    "    print(board[4]+\"|\"+board[5]+\"|\"+board[6])\n",
    "    print(\"-|-|-\")\n",
    "    print(board[7]+\"|\"+board[8]+\"|\"+board[9])"
   ]
  },
  {
   "cell_type": "code",
   "execution_count": 3,
   "id": "3fc20a93",
   "metadata": {
    "scrolled": true
   },
   "outputs": [
    {
     "name": "stdout",
     "output_type": "stream",
     "text": [
      "X|O|X\n",
      "-|-|-\n",
      "O|X|O\n",
      "-|-|-\n",
      "X|O|X\n"
     ]
    }
   ],
   "source": [
    "test_board = ['#','X','O','X','O','X','O','X','O','X']\n",
    "display_board(test_board)"
   ]
  },
  {
   "cell_type": "markdown",
   "id": "32e3b386",
   "metadata": {},
   "source": [
    "player_input(): Takes player input to choose their markers (\"X\" or \"O\"). Returns a tuple containing the chosen markers for Player 1 and Player 2."
   ]
  },
  {
   "cell_type": "code",
   "execution_count": 4,
   "id": "2027255b",
   "metadata": {},
   "outputs": [],
   "source": [
    "def player_input():\n",
    "    \n",
    "    choice = \"WRONG\"\n",
    "    \n",
    "    while choice not in [\"X\",\"O\"]:\n",
    "        \n",
    "        choice = input(\"Player 1, Do you want to be 'X' or 'O' \").upper()\n",
    "        \n",
    "        if choice not in [\"X\",\"O\"]:\n",
    "            print(\"Invalid Input\")\n",
    "    \n",
    "    if choice == \"X\":\n",
    "        return (\"X\",\"O\")\n",
    "    else:\n",
    "        return (\"O\",\"X\")"
   ]
  },
  {
   "cell_type": "markdown",
   "id": "2249f1d8",
   "metadata": {},
   "source": [
    "place_marker(board, marker, position): Places a player's marker (\"X\" or \"O\") at the specified position on the game board."
   ]
  },
  {
   "cell_type": "code",
   "execution_count": 5,
   "id": "634b66f1",
   "metadata": {},
   "outputs": [],
   "source": [
    "def place_marker(board, marker, position):\n",
    "    \n",
    "    board[position] = marker\n",
    "    return board"
   ]
  },
  {
   "cell_type": "markdown",
   "id": "f5dc1b18",
   "metadata": {},
   "source": [
    "win_check(board, mark): Checks if the current player with the given marker (\"X\" or \"O\") has won the game by having a winning combination of markers in a row, column, or diagonal."
   ]
  },
  {
   "cell_type": "code",
   "execution_count": 6,
   "id": "f00d68af",
   "metadata": {},
   "outputs": [],
   "source": [
    "def win_check(board, mark):\n",
    "    \n",
    "    if (board[1]==board[2]==board[3]==mark) or (board[4]==board[5]==board[6]==mark) or (board[7]==board[8]==board[9]==mark) or (board[1]==board[4]==board[7]==mark) or (board[5]==board[2]==board[8]==mark) or (board[9]==board[6]==board[3]==mark) or (board[1]==board[5]==board[9]==mark) or (board[7]==board[5]==board[3]==mark):\n",
    "            return True"
   ]
  },
  {
   "cell_type": "markdown",
   "id": "b0e98355",
   "metadata": {},
   "source": [
    "choose_first(): Randomly selects and returns the player (\"Player 1\" or \"Player 2\") who will take the first turn."
   ]
  },
  {
   "cell_type": "code",
   "execution_count": 7,
   "id": "63fc0bc3",
   "metadata": {},
   "outputs": [],
   "source": [
    "import random\n",
    "\n",
    "def choose_first():\n",
    "    \n",
    "    x = random.randint(0,1)\n",
    "    if x == 0:\n",
    "        return \"Player 1\"\n",
    "    else:\n",
    "        return \"Player 2\"\n",
    "        "
   ]
  },
  {
   "cell_type": "markdown",
   "id": "ae333fe1",
   "metadata": {},
   "source": [
    "space_check(board, position): Checks if a specific position on the game board is empty (contains a space)."
   ]
  },
  {
   "cell_type": "code",
   "execution_count": 8,
   "id": "9f847777",
   "metadata": {},
   "outputs": [],
   "source": [
    "def space_check(board, position):\n",
    "    \n",
    "    if board[position]==\" \":\n",
    "        return True\n",
    "    else:\n",
    "        return False"
   ]
  },
  {
   "cell_type": "markdown",
   "id": "279a3494",
   "metadata": {},
   "source": [
    "full_board_check(board): Checks if the entire game board is full, indicating a draw if no player has won."
   ]
  },
  {
   "cell_type": "code",
   "execution_count": 9,
   "id": "674c9f18",
   "metadata": {},
   "outputs": [],
   "source": [
    "def full_board_check(board):\n",
    "    \n",
    "    for i in range(1,10):\n",
    "        if space_check(board, i):\n",
    "            return False\n",
    "    return True\n",
    "        "
   ]
  },
  {
   "cell_type": "markdown",
   "id": "582acc33",
   "metadata": {},
   "source": [
    "player_choice(board): Takes player input to choose a position for placing their marker, making sure the chosen position is valid and not already occupied."
   ]
  },
  {
   "cell_type": "code",
   "execution_count": 10,
   "id": "76b7f44a",
   "metadata": {},
   "outputs": [],
   "source": [
    "def player_choice(board):\n",
    "    \n",
    "    z = 0\n",
    "    while z not in [1,2,3,4,5,6,7,8,9] or not space_check(board, z):\n",
    "        \n",
    "        z = int(input(\"Enter a position where the symbol will be inserted: \"))\n",
    "        \n",
    "        if z not in range(1,10):\n",
    "            print(\"Invalid Input\")\n",
    "    return z"
   ]
  },
  {
   "cell_type": "markdown",
   "id": "4269b2a8",
   "metadata": {},
   "source": [
    "replay(): Asks the players if they want to play another round. Returns True if they want to replay, and False if not."
   ]
  },
  {
   "cell_type": "code",
   "execution_count": 11,
   "id": "60d167ef",
   "metadata": {},
   "outputs": [],
   "source": [
    "def replay():\n",
    "    x = \" \"\n",
    "    while x not in [\"Y\",\"N\"]:\n",
    "        x = input(\"Do you wish to play again? Y or N: \").upper()\n",
    "    if x == \"Y\":\n",
    "        return True\n",
    "    else:\n",
    "        return False"
   ]
  },
  {
   "cell_type": "markdown",
   "id": "2c9ec503",
   "metadata": {},
   "source": [
    "The rest of the code sets up the game loop, takes player inputs, manages turns, checks for wins or draws, and provides a way to replay the game."
   ]
  },
  {
   "cell_type": "code",
   "execution_count": 12,
   "id": "ced3e8e7",
   "metadata": {},
   "outputs": [
    {
     "name": "stdout",
     "output_type": "stream",
     "text": [
      "X|O|X\n",
      "-|-|-\n",
      "O|X|O\n",
      "-|-|-\n",
      "X| | \n",
      "Congratulations! Player 1 wins!\n",
      "Do you wish to play again? Y or N: n\n"
     ]
    }
   ],
   "source": [
    "print('Welcome to Tic-Tac-Toe!')\n",
    "\n",
    "while True:\n",
    "    board = [' '] * 10\n",
    "    marker1, marker2 = player_input()\n",
    "    current_turn = choose_first()\n",
    "    print(current_turn + ' will take the first turn.')\n",
    "\n",
    "    ready_to_play = input('Are you prepared to begin? Enter Yes or No.')\n",
    "\n",
    "    if ready_to_play.lower()[0] == 'y':\n",
    "        game_active = True\n",
    "    else:\n",
    "        game_active = False\n",
    "\n",
    "    while game_active:\n",
    "        if current_turn == 'Player 1':\n",
    "            display_board(board)\n",
    "            chosen_position = player_choice(board)\n",
    "            place_marker(board, marker1, chosen_position)\n",
    "\n",
    "            if win_check(board, marker1):\n",
    "                display_board(board)\n",
    "                print('Congratulations! Player 1 wins!')\n",
    "                game_active = False\n",
    "            else:\n",
    "                if full_board_check(board):\n",
    "                    display_board(board)\n",
    "                    print('The game ends in a draw!')\n",
    "                    break\n",
    "                else:\n",
    "                    current_turn = 'Player 2'\n",
    "\n",
    "        else:\n",
    "            display_board(board)\n",
    "            chosen_position = player_choice(board)\n",
    "            place_marker(board, marker2, chosen_position)\n",
    "\n",
    "            if win_check(board, marker2):\n",
    "                display_board(board)\n",
    "                print('Player 2 is victorious!')\n",
    "                game_active = False\n",
    "            else:\n",
    "                if full_board_check(board):\n",
    "                    display_board(board)\n",
    "                    print('The game ends in a draw!')\n",
    "                    break\n",
    "                else:\n",
    "                    current_turn = 'Player 1'\n",
    "\n",
    "    if not replay():\n",
    "        break\n"
   ]
  }
 ],
 "metadata": {
  "kernelspec": {
   "display_name": "Python 3 (ipykernel)",
   "language": "python",
   "name": "python3"
  },
  "language_info": {
   "codemirror_mode": {
    "name": "ipython",
    "version": 3
   },
   "file_extension": ".py",
   "mimetype": "text/x-python",
   "name": "python",
   "nbconvert_exporter": "python",
   "pygments_lexer": "ipython3",
   "version": "3.10.9"
  }
 },
 "nbformat": 4,
 "nbformat_minor": 5
}
